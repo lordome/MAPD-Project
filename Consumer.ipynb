{
 "cells": [
  {
   "cell_type": "markdown",
   "metadata": {},
   "source": [
    "# Management and Analysis of Physics Dataset - mod.B\n",
    "\n",
    "## Final project: Streaming processing of cosmic rays using Drift Tubes detectors\n",
    "\n",
    "The goal of this project is to reproduce a real-time processing of real data collected in a particle physics detector and publish the results in a dashboard for live monitoring.\n",
    "\n",
    "### Students:\n",
    "* Conforto Filippo (2021856)\n",
    "* Domenichetti Lorenzo (missing)\n",
    "* Faorlin Tommaso (2021857)"
   ]
  },
  {
   "cell_type": "markdown",
   "metadata": {},
   "source": [
    "## Consumer notebook"
   ]
  },
  {
   "cell_type": "code",
   "execution_count": 9,
   "metadata": {},
   "outputs": [],
   "source": [
    "import json\n",
    "import pylab as pl\n",
    "import numpy as np\n",
    "\n",
    "from IPython import display\n",
    "\n",
    "from kafka import KafkaConsumer\n",
    "\n",
    "import matplotlib.pyplot as plt\n",
    "import matplotlib.ticker as ticker"
   ]
  },
  {
   "cell_type": "code",
   "execution_count": 2,
   "metadata": {},
   "outputs": [
    {
     "data": {
      "text/plain": [
       "{}"
      ]
     },
     "execution_count": 2,
     "metadata": {},
     "output_type": "execute_result"
    }
   ],
   "source": [
    "from kafka.admin import KafkaAdminClient, NewTopic\n",
    "KAFKA_BOOTSTRAP_SERVERS='10.67.22.100:9092'\n",
    "kafka_admin = KafkaAdminClient(\n",
    "        bootstrap_servers=KAFKA_BOOTSTRAP_SERVERS,\n",
    "    )\n",
    "\n",
    "consumer = KafkaConsumer(bootstrap_servers=KAFKA_BOOTSTRAP_SERVERS,consumer_timeout_ms=100000)\n",
    "\n",
    "consumer.subscribe('topic_results')\n",
    "\n",
    "consumer.poll(timeout_ms=0,         #<<--- do not enable dead-times before one poll to the next\n",
    "              max_records=None,     #<<--- do not limit the number of records to consume at once \n",
    "              update_offsets=True   #<<--- update the reading offsets on this topic\n",
    "             )"
   ]
  },
  {
   "cell_type": "code",
   "execution_count": 11,
   "metadata": {},
   "outputs": [],
   "source": [
    "def rt_plot(js,num, fig,axes):\n",
    "    \n",
    "    for txt in fig.texts:\n",
    "        txt.set_visible(False)\n",
    "    \n",
    "    plt.figtext(1.1, 0.5, f'Batch N° {num}:\\n\\n Hits: {js[\"hits\"]} \\n\\n' + f'Channel 1: {js[\"hits_per_chamber\"][0]} hits\\n\\n ' + f'Channel 2: {js[\"hits_per_chamber\"][1]} hits\\n\\n' + f'Channel 3: {js[\"hits_per_chamber\"][2]} hits\\n\\n' + f'Channel 4: {js[\"hits_per_chamber\"][3]} hits' \n",
    "                , ha='center', va='center', fontsize = 20,\n",
    "               bbox=dict(facecolor='none', edgecolor='black', boxstyle='round'))\n",
    "    \n",
    "    plt.figtext(0.5, 1.025, f'Total active channels', ha='center', va='center', fontsize = 22)\n",
    "                \n",
    "    for i, ax in enumerate(axes[0]):\n",
    "        ax.clear()\n",
    "        ax.set_title(f'Chamber {i}', fontsize = 15)\n",
    "        ax.set_xlabel(\"Channel N°\", fontsize = 14)\n",
    "        if i == 0:\n",
    "            ax.set_ylabel(\"Counts\", fontsize = 14)\n",
    "        bin_centers = js[\"hist_1\"][str(i)][\"bins\"][:-1] + np.diff(js[\"hist_1\"][str(i)][\"bins\"])/2\n",
    "        ax.hist(bin_centers, weights=js[\"hist_1\"][str(i)][\"counts\"], bins=js[\"hist_1\"][str(i)][\"bins\"], alpha=0.6)\n",
    "        ax.tick_params(labelsize=13)\n",
    "                \n",
    "    for i, ax in enumerate(axes[1]):\n",
    "        ax.clear()\n",
    "        ax.set_title(f'Chamber {i}', fontsize = 15)\n",
    "        ax.set_xlabel(\"Orbit N°\", fontsize = 14)\n",
    "        if i == 0:\n",
    "            ax.set_ylabel(\"Counts\", fontsize = 14)\n",
    "        bin_centers = js[\"hist_2\"][str(i)][\"bins\"][:-1] + np.diff(js[\"hist_2\"][str(i)][\"bins\"])/2\n",
    "        ax.hist(bin_centers, weights=js[\"hist_2\"][str(i)][\"counts\"], bins=js[\"hist_2\"][str(i)][\"bins\"], alpha=0.6)\n",
    "        ax.tick_params(labelsize=13)\n",
    "        ax.ticklabel_format(axis=\"x\", style=\"sci\", scilimits=(1,1)) \n",
    "                \n",
    "    plt.figtext(0.5, 0.5, 'Total number of active channels per orbit', ha='center', va='center', fontsize = 22)\n",
    "    plt.tight_layout(h_pad = 7, w_pad = 1)\n",
    "    display.clear_output(wait=True)\n",
    "    display.display(pl.gcf())"
   ]
  },
  {
   "cell_type": "code",
   "execution_count": null,
   "metadata": {
    "scrolled": false
   },
   "outputs": [],
   "source": [
    "fig, axes = plt.subplots(2,4, figsize = (15,10), sharey = 'row')\n",
    "for num,message in enumerate(consumer):\n",
    "    rt_plot(json.loads(message.value),num,fig,axes)"
   ]
  }
 ],
 "metadata": {
  "kernelspec": {
   "display_name": "Python 3",
   "language": "python",
   "name": "python3"
  },
  "language_info": {
   "codemirror_mode": {
    "name": "ipython",
    "version": 3
   },
   "file_extension": ".py",
   "mimetype": "text/x-python",
   "name": "python",
   "nbconvert_exporter": "python",
   "pygments_lexer": "ipython3",
   "version": "3.6.5"
  }
 },
 "nbformat": 4,
 "nbformat_minor": 2
}
