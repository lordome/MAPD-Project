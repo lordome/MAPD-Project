{
 "cells": [
  {
   "cell_type": "code",
   "execution_count": 1,
   "metadata": {},
   "outputs": [],
   "source": [
    "import os\n",
    "import pandas as pd\n",
    "import ssl\n",
    "import json\n",
    "\n",
    "from kafka import KafkaProducer\n",
    "import time\n",
    "\n",
    "ssl._create_default_https_context = ssl._create_unverified_context"
   ]
  },
  {
   "cell_type": "markdown",
   "metadata": {},
   "source": [
    "New topic"
   ]
  },
  {
   "cell_type": "code",
   "execution_count": 2,
   "metadata": {},
   "outputs": [],
   "source": [
    "from kafka.admin import KafkaAdminClient, NewTopic\n",
    "KAFKA_BOOTSTRAP_SERVERS='10.67.22.100:9092'\n",
    "kafka_admin = KafkaAdminClient(\n",
    "        bootstrap_servers=KAFKA_BOOTSTRAP_SERVERS,\n",
    "    )"
   ]
  },
  {
   "cell_type": "code",
   "execution_count": 3,
   "metadata": {},
   "outputs": [
    {
     "data": {
      "text/plain": [
       "['topic_stream',\n",
       " '__consumer_offsets',\n",
       " 'topic_test',\n",
       " 'topic_result',\n",
       " 'topic_results']"
      ]
     },
     "execution_count": 3,
     "metadata": {},
     "output_type": "execute_result"
    }
   ],
   "source": [
    "kafka_admin.list_topics()\n"
   ]
  },
  {
   "cell_type": "code",
   "execution_count": 4,
   "metadata": {},
   "outputs": [],
   "source": [
    "#a_new_topic = NewTopic(name='topic_test', \n",
    "#                       num_partitions=2, \n",
    "#                       replication_factor=1)\n",
    "\n",
    "#kafka_admin.create_topics(new_topics=[a_new_topic])"
   ]
  },
  {
   "cell_type": "code",
   "execution_count": 5,
   "metadata": {},
   "outputs": [],
   "source": [
    "producer = KafkaProducer(bootstrap_servers=KAFKA_BOOTSTRAP_SERVERS)"
   ]
  },
  {
   "cell_type": "code",
   "execution_count": 6,
   "metadata": {},
   "outputs": [],
   "source": [
    "url = \"https://cloud-areapd.pd.infn.it:5210/swift/v1/AUTH_d2e941ce4b324467b6b3d467a923a9bc/MAPD_miniDT_stream/data_000019.txt\"\n",
    "df = pd.read_csv(url)"
   ]
  },
  {
   "cell_type": "code",
   "execution_count": 27,
   "metadata": {},
   "outputs": [
    {
     "name": "stdout",
     "output_type": "stream",
     "text": [
      "CPU times: user 4.03 s, sys: 0 ns, total: 4.03 s\n",
      "Wall time: 4.02 s\n"
     ]
    }
   ],
   "source": [
    "%%time\n",
    "jlist = []\n",
    "for i in range(1000,2000):\n",
    "    jj = df[df.HEAD !=2].iloc[i].to_dict()\n",
    "    for key in jj:\n",
    "        if key!=\"TDC_MEAS\":\n",
    "            jj[key] = int(jj[key])\n",
    "    jlist.append(jj)\n",
    "\n",
    "#time.sleep(2)\n",
    "#for i in range(1000):\n",
    "#    jj = df[df.HEAD !=2].iloc[i].to_dict()\n",
    "#    for key in jj:\n",
    "#        if key!=\"TDC_MEAS\":\n",
    "#            jj[key] = int(jj[key])\n",
    "#    producer.send('topic_stream', json.dumps(jj).encode('utf-8'))\n",
    "#producer.flush()"
   ]
  },
  {
   "cell_type": "code",
   "execution_count": 28,
   "metadata": {},
   "outputs": [
    {
     "name": "stdout",
     "output_type": "stream",
     "text": [
      "CPU times: user 90.1 ms, sys: 0 ns, total: 90.1 ms\n",
      "Wall time: 87.9 ms\n"
     ]
    }
   ],
   "source": [
    "%%time\n",
    "for i in range(1000):\n",
    "    producer.send('topic_stream', json.dumps(jlist[i]).encode('utf-8'))\n",
    "producer.flush()"
   ]
  },
  {
   "cell_type": "code",
   "execution_count": 49,
   "metadata": {},
   "outputs": [],
   "source": [
    "jj = df[df.HEAD !=2].iloc[100:110].to_dict()\n",
    "for key in jj:\n",
    "    if key!=\"TDC_MEAS\":\n",
    "        jj[key] = list(map(int,jj[key]))\n",
    "producer.send('topic_stream', json.dumps(jj).encode('utf-8'))\n",
    "producer.flush()"
   ]
  },
  {
   "cell_type": "code",
   "execution_count": 11,
   "metadata": {},
   "outputs": [],
   "source": [
    "#for i in range(0,81):\n",
    "#    i = str(i).zfill(2)\n",
    "#    url = f\"https://cloud-areapd.pd.infn.it:5210/swift/v1/AUTH_d2e941ce4b324467b6b3d467a923a9bc/MAPD_miniDT_stream/data_0000{i}.txt\"\n",
    "#    df = pd.read_csv(url)\n",
    "#    for j in range(0,df.shape[0]//1000):\n",
    "#        producer.send('a_partitioned_topic', json.dumps(msg).encode('utf-8'))\n",
    "#        producer.flush()\n",
    "#        time.sleep(0.25)\n",
    "#        "
   ]
  }
 ],
 "metadata": {
  "interpreter": {
   "hash": "916dbcbb3f70747c44a77c7bcd40155683ae19c65e1c03b4aa3499c5328201f1"
  },
  "kernelspec": {
   "display_name": "Python 3",
   "language": "python",
   "name": "python3"
  },
  "language_info": {
   "codemirror_mode": {
    "name": "ipython",
    "version": 3
   },
   "file_extension": ".py",
   "mimetype": "text/x-python",
   "name": "python",
   "nbconvert_exporter": "python",
   "pygments_lexer": "ipython3",
   "version": "3.6.5"
  }
 },
 "nbformat": 4,
 "nbformat_minor": 2
}
