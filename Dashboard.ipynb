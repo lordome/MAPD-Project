{
 "cells": [
  {
   "cell_type": "markdown",
   "metadata": {},
   "source": [
    "# Management and Analysis of Physics Dataset - mod.B\n",
    "\n",
    "## Final project: Streaming processing of cosmic rays using Drift Tubes detectors\n",
    "\n",
    "The goal of this project is to reproduce a real-time processing of real data collected in a particle physics detector and publish the results in a dashboard for live monitoring.\n",
    "\n",
    "### Students:\n",
    "* Conforto Filippo (2021856)\n",
    "* Domenichetti Lorenzo (2011653)\n",
    "* Faorlin Tommaso (2021857)"
   ]
  },
  {
   "cell_type": "markdown",
   "metadata": {},
   "source": [
    "# Dashboard  Notebook"
   ]
  },
  {
   "cell_type": "markdown",
   "metadata": {},
   "source": [
    "## Libraries"
   ]
  },
  {
   "cell_type": "code",
   "execution_count": 1,
   "metadata": {},
   "outputs": [],
   "source": [
    "import json\n",
    "import pylab as pl\n",
    "import numpy as np\n",
    "\n",
    "from IPython import display\n",
    "\n",
    "from kafka import KafkaConsumer\n",
    "from kafka.admin import KafkaAdminClient\n",
    "\n",
    "import matplotlib.pyplot as plt\n",
    "import matplotlib.ticker as ticker"
   ]
  },
  {
   "cell_type": "markdown",
   "metadata": {},
   "source": [
    "## Kafka server"
   ]
  },
  {
   "cell_type": "code",
   "execution_count": 2,
   "metadata": {},
   "outputs": [
    {
     "data": {
      "text/plain": [
       "{}"
      ]
     },
     "execution_count": 2,
     "metadata": {},
     "output_type": "execute_result"
    }
   ],
   "source": [
    "#define the kafka server from IP and Port\n",
    "KAFKA_BOOTSTRAP_SERVERS='slave04:9092'\n",
    "\n",
    "#consumer definition from IP address given before\n",
    "consumer = KafkaConsumer(bootstrap_servers=KAFKA_BOOTSTRAP_SERVERS, consumer_timeout_ms=100000)\n",
    "\n",
    "#consumer subscription to topic_results\n",
    "consumer.subscribe('topic_results')\n",
    "\n",
    "#Additional configuration options for consumer\n",
    "consumer.poll(timeout_ms=0,         # do not enable dead-times before one poll to the next\n",
    "              max_records=None,     # do not limit the number of records to consume at once \n",
    "              update_offsets=True   # update the reading offsets on this topic\n",
    "             )"
   ]
  },
  {
   "cell_type": "markdown",
   "metadata": {},
   "source": [
    "## Visualization functions"
   ]
  },
  {
   "cell_type": "code",
   "execution_count": 3,
   "metadata": {},
   "outputs": [],
   "source": [
    "def rt_plot(js,num, fig,axes):\n",
    "    \n",
    "    #to delete the texts written during the previous update\n",
    "    for txt in fig.texts:\n",
    "        txt.set_visible(False)\n",
    "    \n",
    "    #label with informations on the right side of the window\n",
    "    plt.figtext(1.01, 0.5, f'Batch N° {num}:\\n\\nHits: {js[\"hits\"]} \\n\\n' + f'Channel 0: {js[\"hits_per_chamber\"][0]} hits\\n\\n' + f'Channel 1: {js[\"hits_per_chamber\"][1]} hits\\n\\n' + f'Channel 2: {js[\"hits_per_chamber\"][2]} hits\\n\\n' + f'Channel 3: {js[\"hits_per_chamber\"][3]} hits' \n",
    "                , ha='left', va='center', fontsize = 20, \n",
    "               bbox=dict(facecolor='snow', edgecolor='black', boxstyle='round'))\n",
    "    \n",
    "    #main title of the upper panel\n",
    "    plt.figtext(0.5, 1.07, f'Muon-Hits Monitors', ha='center', va='center', fontsize = 30)\n",
    "    plt.figtext(0.5, 1.025, f'Total active channels', ha='center', va='center', fontsize = 22)\n",
    "                \n",
    "    for i, ax in enumerate(axes[0]):\n",
    "        #clean previous plots and update titles and labels\n",
    "        ax.clear()\n",
    "        ax.set_title(f'Chamber {i}', fontsize=15)\n",
    "        ax.set_xlabel(\"Channel N°\",  fontsize=14)\n",
    "        if i==0:\n",
    "            ax.set_ylabel(\"Counts\",  fontsize=14)\n",
    "        #bins centers computation\n",
    "        bin_centers = js[\"hist_1\"][str(i)][\"bins\"][:-1] + np.diff(js[\"hist_1\"][str(i)][\"bins\"])/2\n",
    "        ax.hist(bin_centers, weights=js[\"hist_1\"][str(i)][\"counts\"], bins=js[\"hist_1\"][str(i)][\"bins\"], alpha=0.6)\n",
    "        ax.tick_params(labelsize=13)\n",
    "\n",
    "    \n",
    "    #main title of the second panel\n",
    "    plt.figtext(0.5, 0.75, 'Total number of active channels per orbit', ha='center', va='center', fontsize = 22)\n",
    "\n",
    "    for i, ax in enumerate(axes[1]):\n",
    "        #clean previous plots and update titles and labels\n",
    "        ax.clear()\n",
    "        ax.set_title(f'Chamber {i}', fontsize=15)\n",
    "        ax.set_xlabel(\"Orbit N°\",    fontsize=14)\n",
    "        if i==0:\n",
    "            ax.set_ylabel(\"Counts\",  fontsize=14)\n",
    "        #bins centers computation\n",
    "        bin_centers = js[\"hist_2\"][str(i)][\"bins\"][:-1] + np.diff(js[\"hist_2\"][str(i)][\"bins\"])/2\n",
    "        ax.hist(bin_centers, weights=js[\"hist_2\"][str(i)][\"counts\"], bins=js[\"hist_2\"][str(i)][\"bins\"], alpha=0.6)\n",
    "        ax.tick_params(labelsize=13)\n",
    "        #scientific notation on the x-axis labels\n",
    "        ax.ticklabel_format(axis=\"x\", style=\"sci\", scilimits=(0,0)) \n",
    "        \n",
    "    #main title of the third panel\n",
    "    plt.figtext(0.5, 0.5, f'Total active channels for orbits with active scintillator', ha='center', va='center', fontsize = 22)\n",
    "                \n",
    "    for i, ax in enumerate(axes[2]):\n",
    "        #clean previous plots and update titles and labels\n",
    "        ax.clear()\n",
    "        ax.set_title(f'Chamber {i}', fontsize=15)\n",
    "        ax.set_xlabel(\"Channel N°\",  fontsize=14)\n",
    "        if i==0:\n",
    "            ax.set_ylabel(\"Counts\",  fontsize=14)\n",
    "        #bins centers computation\n",
    "        bin_centers = js[\"hist_3\"][str(i)][\"bins\"][:-1] + np.diff(js[\"hist_3\"][str(i)][\"bins\"])/2\n",
    "        ax.hist(bin_centers, weights=js[\"hist_3\"][str(i)][\"counts\"], bins=js[\"hist_3\"][str(i)][\"bins\"], alpha=0.6)\n",
    "        ax.tick_params(labelsize=13)\n",
    "\n",
    "    \n",
    "    #main title of the lower panel\n",
    "    plt.figtext(0.5, 0.24, 'Drift time', ha='center', va='center', fontsize = 22)\n",
    "\n",
    "    for i, ax in enumerate(axes[3]):\n",
    "        #clean previous plots and update titles and labels\n",
    "        ax.clear()\n",
    "        ax.set_title(f'Chamber {i}', fontsize=15)\n",
    "        ax.set_xlabel(\"Time[s]\",     fontsize=14)\n",
    "        if i==0:\n",
    "            ax.set_ylabel(\"Counts\",  fontsize=14)\n",
    "        #bins centers computation\n",
    "        bin_centers = js[\"hist_4\"][str(i)][\"bins\"][:-1] + np.diff(js[\"hist_4\"][str(i)][\"bins\"])/2\n",
    "        ax.hist(bin_centers, weights=js[\"hist_4\"][str(i)][\"counts\"], bins=js[\"hist_4\"][str(i)][\"bins\"], alpha=0.6)\n",
    "        ax.tick_params(labelsize=13)\n",
    "        #scientific notation on the x-axis labels\n",
    "        ax.ticklabel_format(axis=\"x\", style=\"sci\", scilimits=(0,0)) \n",
    "     \n",
    "    #to separate better the plots\n",
    "    plt.tight_layout(h_pad = 7, w_pad = 1)\n",
    "    \n",
    "    #clean the whole screen and update with new incoming data\n",
    "    display.clear_output(wait=True)\n",
    "    display.display(pl.gcf())\n",
    "\n",
    "def bin_sum(old_j,new_j):\n",
    "    #updating old values \n",
    "    for i,name in enumerate([\"hits\",\"hits_per_chamber\",\"hist_1\",\"hist_2\",\"hist_3\",\"hist_4\"]):\n",
    "            if i==0:\n",
    "                #to add new hits\n",
    "                old_j[name]+=new_j[name]\n",
    "            elif i==1:\n",
    "                #to add new hits per chamber\n",
    "                old_j[name]=np.asarray(old_j[name]) + np.asarray(new_j[name])\n",
    "            else:\n",
    "                for j in range(4):\n",
    "                    #to update counts with the incoming data array\n",
    "                    old_j[name][str(j)][\"counts\"]=np.asarray(old_j[name][str(j)][\"counts\"]) + np.asarray(new_j[name][str(j)][\"counts\"])\n"
   ]
  },
  {
   "cell_type": "markdown",
   "metadata": {},
   "source": [
    "## Cumulative dashboard service"
   ]
  },
  {
   "cell_type": "code",
   "execution_count": null,
   "metadata": {
    "scrolled": false
   },
   "outputs": [],
   "source": [
    "#Figure creation\n",
    "fig, axes = plt.subplots(4,4, figsize = (15,20), sharey = 'row')\n",
    "for num,message in enumerate(consumer):\n",
    "    if num==0:\n",
    "        #The first incoming message is simply stored\n",
    "        msg = json.loads(message.value)\n",
    "    else: \n",
    "        #The messages following are obtained as an update of the first one\n",
    "        bin_sum(msg,json.loads(message.value))\n",
    "    #plot production\n",
    "    rt_plot(msg,num,fig,axes)"
   ]
  },
  {
   "cell_type": "markdown",
   "metadata": {},
   "source": [
    "## Single-batch dashboard service"
   ]
  },
  {
   "cell_type": "code",
   "execution_count": null,
   "metadata": {
    "scrolled": false
   },
   "outputs": [],
   "source": [
    "#Figure creation\n",
    "fig, axes = plt.subplots(4,4, figsize = (15,20), sharey = 'row')\n",
    "for num,message in enumerate(consumer):\n",
    "    #Creating and plotting values for the received message\n",
    "    msg = json.loads(message.value)\n",
    "    rt_plot(msg,num,fig,axes)"
   ]
  },
  {
   "cell_type": "code",
   "execution_count": null,
   "metadata": {},
   "outputs": [],
   "source": []
  },
  {
   "cell_type": "code",
   "execution_count": null,
   "metadata": {},
   "outputs": [],
   "source": []
  }
 ],
 "metadata": {
  "kernelspec": {
   "display_name": "Python 3",
   "language": "python",
   "name": "python3"
  },
  "language_info": {
   "codemirror_mode": {
    "name": "ipython",
    "version": 3
   },
   "file_extension": ".py",
   "mimetype": "text/x-python",
   "name": "python",
   "nbconvert_exporter": "python",
   "pygments_lexer": "ipython3",
   "version": "3.6.5"
  }
 },
 "nbformat": 4,
 "nbformat_minor": 2
}
